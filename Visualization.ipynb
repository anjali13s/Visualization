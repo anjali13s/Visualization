{
 "cells": [
  {
   "cell_type": "code",
   "execution_count": 1,
   "metadata": {},
   "outputs": [
    {
     "name": "stderr",
     "output_type": "stream",
     "text": [
      "WARNING: pip is being invoked by an old script wrapper. This will fail in a future version of pip.\n",
      "Please see https://github.com/pypa/pip/issues/5599 for advice on fixing the underlying issue.\n",
      "To avoid this problem you can invoke Python with '-m pip' instead of running pip directly.\n"
     ]
    },
    {
     "name": "stdout",
     "output_type": "stream",
     "text": [
      "Requirement already satisfied: BeautifulSoup4 in /opt/sagemath-9.2/local/lib/python3.7/site-packages (4.9.3)\n",
      "Requirement already satisfied: soupsieve>1.2; python_version >= \"3.0\" in /opt/sagemath-9.2/local/lib/python3.7/site-packages (from BeautifulSoup4) (2.2.1)\n"
     ]
    },
    {
     "name": "stderr",
     "output_type": "stream",
     "text": [
      "WARNING: You are using pip version 20.2.3; however, version 21.0.1 is available.\n",
      "You should consider upgrading via the '/opt/sagemath-9.2/local/bin/python3 -m pip install --upgrade pip' command.\n"
     ]
    }
   ],
   "source": [
    "import pip\n",
    "\n",
    "if int(pip.__version__.split('.')[0])>9:\n",
    "        from pip._internal import main\n",
    "else:\n",
    "    from pip import main\n",
    "def install(package):\n",
    "        main(['install', package])\n",
    "\n",
    "install('BeautifulSoup4')\n",
    "\n",
    "import requests"
   ]
  },
  {
   "cell_type": "code",
   "execution_count": 2,
   "metadata": {},
   "outputs": [
    {
     "name": "stdout",
     "output_type": "stream",
     "text": [
      "['/Hotel_Review-g298570-d9998062-Reviews-The_St_Regis_Kuala_Lumpur-Kuala_Lumpur_Wilayah_Persekutuan.html#REVIEWS', '/Hotel_Review-g298570-d12621892-Reviews-EQ_Kuala_Lumpur-Kuala_Lumpur_Wilayah_Persekutuan.html#REVIEWS', '/Hotel_Review-g298570-d17990578-Reviews-Four_Points_by_Sheraton_Kuala_Lumpur_Chinatown-Kuala_Lumpur_Wilayah_Persekutuan.html#REVIEWS', '/Hotel_Review-g298570-d3730389-Reviews-Aloft_Kuala_Lumpur_Sentral-Kuala_Lumpur_Wilayah_Persekutuan.html#REVIEWS', '/Hotel_Review-g298570-d15189916-Reviews-The_RuMa_Hotel_and_Residences-Kuala_Lumpur_Wilayah_Persekutuan.html#REVIEWS', '/Hotel_Review-g298570-d13424907-Reviews-Four_Seasons_Hotel_Kuala_Lumpur-Kuala_Lumpur_Wilayah_Persekutuan.html#REVIEWS', '/Hotel_Review-g298570-d304498-Reviews-The_Westin_Kuala_Lumpur-Kuala_Lumpur_Wilayah_Persekutuan.html#REVIEWS', '/Hotel_Review-g298570-d14166349-Reviews-Banyan_Tree_Kuala_Lumpur-Kuala_Lumpur_Wilayah_Persekutuan.html#REVIEWS', '/Hotel_Review-g298570-d15226099-Reviews-Pavilion_Hotel_Kuala_Lumpur_Managed_by_Banyan_Tree-Kuala_Lumpur_Wilayah_Persekutuan.html#REVIEWS', '/Hotel_Review-g298570-d4449878-Reviews-Lanson_Place_Bukit_Ceylon_Serviced_Residences-Kuala_Lumpur_Wilayah_Persekutuan.html#REVIEWS', '/Hotel_Review-g298570-d308144-Reviews-MiCasa_All_Suite_Hotel-Kuala_Lumpur_Wilayah_Persekutuan.html#REVIEWS', '/Hotel_Review-g298570-d302420-Reviews-Le_Meridien_Kuala_Lumpur-Kuala_Lumpur_Wilayah_Persekutuan.html#REVIEWS', '/Hotel_Review-g298570-d305721-Reviews-Sunway_Putra_Hotel-Kuala_Lumpur_Wilayah_Persekutuan.html#REVIEWS', '/Hotel_Review-g298570-d1887105-Reviews-PARKROYAL_Serviced_Suites_Kuala_Lumpur-Kuala_Lumpur_Wilayah_Persekutuan.html#REVIEWS', '/Hotel_Review-g298570-d12714640-Reviews-Sunway_Velocity_Hotel-Kuala_Lumpur_Wilayah_Persekutuan.html#REVIEWS', '/Hotel_Review-g298570-d10305154-Reviews-VE_Hotel_Residence-Kuala_Lumpur_Wilayah_Persekutuan.html#REVIEWS', '/Hotel_Review-g298570-d301406-Reviews-Pullman_Kuala_Lumpur_City_Centre_Hotel_Residences-Kuala_Lumpur_Wilayah_Persekutuan.html#REVIEWS', '/Hotel_Review-g298570-d19079760-Reviews-Komune_Living-Kuala_Lumpur_Wilayah_Persekutuan.html#REVIEWS', '/Hotel_Review-g298570-d616560-Reviews-Seri_Pacific_Hotel_Kuala_Lumpur-Kuala_Lumpur_Wilayah_Persekutuan.html#REVIEWS', '/Hotel_Review-g298570-d614528-Reviews-Impiana_KLCC_Hotel_Kuala_Lumpur-Kuala_Lumpur_Wilayah_Persekutuan.html#REVIEWS']\n",
      "20\n"
     ]
    }
   ],
   "source": [
    "kl = requests.get('https://www.tripadvisor.com/Hotels-g298570-Kuala_Lumpur_Wilayah_Persekutuan-Hotels.html')\n",
    "\n",
    "from bs4 import BeautifulSoup\n",
    "soup = BeautifulSoup(kl.text)\n",
    "\n",
    "kl_links = []\n",
    "for link in soup.find_all('a'):\n",
    "    class1 = link.get('class')\n",
    "\n",
    "    if class1!= None:\n",
    "        if class1[0]=='review_count':\n",
    "            kl_links.append(link.get('href'))\n",
    "            if (len(kl_links)>19):\n",
    "                break\n",
    "\n",
    "print(kl_links)  \n",
    "print(len(kl_links))"
   ]
  },
  {
   "cell_type": "code",
   "execution_count": 3,
   "metadata": {},
   "outputs": [
    {
     "name": "stdout",
     "output_type": "stream",
     "text": [
      "['/Hotel_Review-g293916-d299779-Reviews-JW_Marriott_Hotel_Bangkok-Bangkok.html#REVIEWS', '/Hotel_Review-g293916-d1572845-Reviews-The_Cottage_Suvarnabhumi-Bangkok.html#REVIEWS', '/Hotel_Review-g293916-d10759322-Reviews-Suvarnabhumi_Ville_Airport_Hotel-Bangkok.html#REVIEWS', '/Hotel_Review-g293916-d14165783-Reviews-The_Quarter_Ladprao_by_UHG-Bangkok.html#REVIEWS', '/Hotel_Review-g293916-d19602015-Reviews-Sindhorn_Midtown_Hotel_Bangkok-Bangkok.html#REVIEWS', '/Hotel_Review-g293916-d1315544-Reviews-Chatrium_Hotel_Riverside_Bangkok-Bangkok.html#REVIEWS', '/Hotel_Review-g293916-d1965812-Reviews-Golden_Tulip_Mandison_Suites-Bangkok.html#REVIEWS', '/Hotel_Review-g293916-d302959-Reviews-Banyan_Tree_Bangkok-Bangkok.html#REVIEWS', '/Hotel_Review-g293916-d1724201-Reviews-Siam_Kempinski_Hotel_Bangkok-Bangkok.html#REVIEWS', '/Hotel_Review-g293916-d20146210-Reviews-Carlton_Hotel_Bangkok_Sukhumvit-Bangkok.html#REVIEWS', '/Hotel_Review-g293916-d301411-Reviews-Mandarin_Oriental_Bangkok-Bangkok.html#REVIEWS', '/Hotel_Review-g293916-d10623691-Reviews-SKYVIEW_Hotel_Bangkok-Bangkok.html#REVIEWS', '/Hotel_Review-g293916-d586655-Reviews-Millennium_Hilton_Bangkok-Bangkok.html#REVIEWS', '/Hotel_Review-g293916-d19626625-Reviews-Kimpton_Maa_Lai_Bangkok-Bangkok.html#REVIEWS', '/Hotel_Review-g293916-d301563-Reviews-Swissotel_Bangkok_Ratchada-Bangkok.html#REVIEWS', '/Hotel_Review-g293916-d14975375-Reviews-Somerset_Maison_Asoke-Bangkok.html#REVIEWS', '/Hotel_Review-g293916-d2553477-Reviews-The_Siam-Bangkok.html#REVIEWS', '/Hotel_Review-g293916-d15239393-Reviews-Rosewood_Bangkok-Bangkok.html#REVIEWS', '/Hotel_Review-g293916-d1393554-Reviews-Sofitel_Bangkok_Sukhumvit-Bangkok.html#REVIEWS', '/Hotel_Review-g293916-d20302573-Reviews-Sindhorn_Kempinski_Hotel_Bangkok-Bangkok.html#REVIEWS']\n",
      "20\n"
     ]
    }
   ],
   "source": [
    "b = requests.get('https://www.tripadvisor.com/Hotels-g293916-Bangkok-Hotels.html')\n",
    "\n",
    "from bs4 import BeautifulSoup\n",
    "soup = BeautifulSoup(b.text)\n",
    "\n",
    "b_links = []\n",
    "for link in soup.find_all('a'):\n",
    "    class1 = link.get('class')\n",
    "\n",
    "    if class1!= None:\n",
    "        if class1[0]=='review_count':\n",
    "            b_links.append(link.get('href'))\n",
    "            if (len(b_links)>19):\n",
    "                break\n",
    "\n",
    "print(b_links)  \n",
    "print(len(b_links))"
   ]
  },
  {
   "cell_type": "code",
   "execution_count": null,
   "metadata": {},
   "outputs": [],
   "source": [
    "base_url_s = 'https://www.tripadvisor.com/Hotels-g294265-Singapore-Hotels.html' \n",
    "s = requests.get(base_url_s)\n",
    "\n",
    "from bs4 import BeautifulSoup\n",
    "soup = BeautifulSoup(s.text)\n",
    "\n",
    "singapore_links = [] #contains the path to each of the 20 hotels\n",
    "for link in soup.find_all('a'):\n",
    "    class1 = link.get('class')\n",
    "\n",
    "    if class1!= None:\n",
    "        if class1[0]=='review_count':\n",
    "            singapore_links.append(link.get('href'))\n",
    "            if (len(singapore_links)>19):\n",
    "                break\n",
    "\n",
    "\n",
    "#print(singapore_links)  \n",
    "#print(len(singapore_links))\n",
    "\n",
    "for n in range (20):\n",
    "    hotel = dict()\n",
    "    \n",
    "    new = 'https://www.tripadvisor.com' + singapore_links[n]\n",
    "    a = requests.get(new)\n",
    "    soup_a = BeautifulSoup(a.text)\n",
    "    for a_span in soup_a.find('h1'):\n",
    "        hotel_name = a_span\n",
    "        hotel['Name'] = hotel_name\n",
    "    \n",
    "    for div in soup_a.find_all('div'):\n",
    "        ID = div.get('id')\n",
    "\n",
    "        if ID!= None:\n",
    "            if ID =='ABOUT_TAB':\n",
    "                for span in div.find_all('span'):\n",
    "                    if(span.text!= ''):\n",
    "                        overall_rating = span.text\n",
    "                        if (len(span.text)>1):\n",
    "                               break \n",
    "                                \n",
    "                    \n",
    "    hotel['Overall Rating'] = overall_rating            \n",
    "                                  \n",
    "     ###############################################################                        \n",
    "                  \n",
    "                        \n",
    "    reviews_h = [] #contains reviews for each hotel\n",
    "    for a_span in soup_a.find_all('q'):\n",
    "        reviews_h.append(a_span.text)\n",
    "    hotel['Reviews'] = reviews_h     \n",
    "    #print(reviews_h)    \n",
    "    \n",
    "    ratings = []\n",
    "    for div in soup_a.find_all('div'):\n",
    "        target = div.get('data-test-target')\n",
    "\n",
    "        if target!= None:\n",
    "            if target=='review-rating':\n",
    "                for span in div.find_all('span'):\n",
    "                    class1 = span.get('class')\n",
    "                    temp = class1[1]\n",
    "                    individual_rating = int(temp[-2:])/10\n",
    "                    ratings.append(individual_rating)\n",
    "    hotel['Individual Ratings'] = ratings  \n",
    "    \n",
    "    ##############################################################\n",
    "    count = 0\n",
    "    for j in range(len(new)):\n",
    "        if new[j]=='-':\n",
    "            count+=1\n",
    "        if count== 4:\n",
    "            start_url = new[:j+1]\n",
    "            end_url = new[j:]\n",
    "            break\n",
    "            \n",
    "    for k in range(1,20):\n",
    "        url = start_url+'or'+str(k*5)+end_url\n",
    "        #print(url)\n",
    "        #print(k)\n",
    "     \n",
    "        a = requests.get(url)\n",
    "        soup_a = BeautifulSoup(a.text)\n",
    "\n",
    "        for a_span in soup_a.find_all('q'):\n",
    "            reviews_h.append(a_span.text)\n",
    "            hotel['Reviews'] = reviews_h    \n",
    "            \n",
    "        print(len(reviews_h))\n",
    "                  \n",
    "\n",
    "\n",
    "        for div in soup_a.find_all('div'):\n",
    "            target = div.get('data-test-target')\n",
    "\n",
    "            if target!= None:\n",
    "                if target=='review-rating':\n",
    "                    for span in div.find_all('span'):\n",
    "                        class1 = span.get('class')\n",
    "                        temp = class1[1]\n",
    "                        individual_rating = int(temp[-2:])/10\n",
    "                        ratings.append(individual_rating)\n",
    "            hotel['Individual Ratings'] = ratings \n",
    "            \n",
    "\n",
    "\n",
    "    print(len(hotel['Individual Ratings']))    \n",
    "    print(len(hotel['Reviews']))\n",
    "    print(hotel)\n",
    "    \n"
   ]
  }
 ],
 "metadata": {
  "kernelspec": {
   "display_name": "Python 3",
   "language": "python",
   "name": "python3"
  },
  "language_info": {
   "codemirror_mode": {
    "name": "ipython",
    "version": 3
   },
   "file_extension": ".py",
   "mimetype": "text/x-python",
   "name": "python",
   "nbconvert_exporter": "python",
   "pygments_lexer": "ipython3",
   "version": "3.7.7"
  }
 },
 "nbformat": 4,
 "nbformat_minor": 4
}
