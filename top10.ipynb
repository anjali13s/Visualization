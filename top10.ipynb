{
 "cells": [
  {
   "cell_type": "code",
   "execution_count": 51,
   "id": "3632ba66",
   "metadata": {},
   "outputs": [],
   "source": [
    "import csv\n",
    "import geopy\n",
    "from geopy.geocoders import Nominatim\n",
    "geolocator = Nominatim(user_agent=\"shambhavikurup@gmail.com\")\n",
    "\n",
    "rows = []\n",
    "top10overall = []\n",
    "top10polarity = []\n",
    "with open('HotelRatingsFinal.csv', 'r') as csvfile: #opening file in read mode\n",
    "    filereaderobj = csv.reader(csvfile) \n",
    "    for row in filereaderobj: \n",
    "        if row[0]=='Hotel No.':\n",
    "            continue\n",
    "        rows.append(row)\n",
    "\n",
    "rows.sort(key = lambda row: float(row[2]))\n",
    "rows.reverse()\n",
    "for i in range(10):\n",
    "    top10overall.append([rows[i][1],rows[i][2]])\n",
    "\n",
    "rows.sort(key = lambda row: float(row[3]))\n",
    "rows.reverse()\n",
    "for i in range(10):\n",
    "    top10polarity.append([rows[i][1],rows[i][3]])\n",
    "    \n",
    "\n",
    "for row in top10overall:\n",
    "    location = geolocator.geocode(row[0])\n",
    "    if location==None:\n",
    "        continue\n",
    "    row.insert(2, location.latitude)\n",
    "    row.insert(3, location.longitude)\n",
    "    \n",
    "for row in top10polarity:\n",
    "    location = geolocator.geocode(row[0])\n",
    "    if location==None:\n",
    "        continue\n",
    "    row.insert(2, location.latitude)\n",
    "    row.insert(3, location.longitude)\n",
    "\n",
    "    \n",
    "with open(\"Top10Overall.csv\", \"w\", newline=\"\") as f:\n",
    "    writer = csv.writer(f)\n",
    "    writer.writerows(top10overall)\n",
    "    \n",
    "with open(\"Top10Polarity.csv\", \"w\", newline=\"\") as f:\n",
    "    writer = csv.writer(f)\n",
    "    writer.writerows(top10polarity)\n"
   ]
  },
  {
   "cell_type": "code",
   "execution_count": null,
   "id": "f407132f",
   "metadata": {},
   "outputs": [],
   "source": []
  }
 ],
 "metadata": {
  "kernelspec": {
   "display_name": "Python 3",
   "language": "python",
   "name": "python3"
  },
  "language_info": {
   "codemirror_mode": {
    "name": "ipython",
    "version": 3
   },
   "file_extension": ".py",
   "mimetype": "text/x-python",
   "name": "python",
   "nbconvert_exporter": "python",
   "pygments_lexer": "ipython3",
   "version": "3.8.2"
  }
 },
 "nbformat": 4,
 "nbformat_minor": 5
}
