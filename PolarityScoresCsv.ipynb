{
 "cells": [
  {
   "cell_type": "code",
   "execution_count": 1,
   "id": "c425c6f8",
   "metadata": {},
   "outputs": [],
   "source": [
    "import nltk\n",
    "import csv\n",
    "from nltk.sentiment import SentimentIntensityAnalyzer\n",
    "\n",
    "rows=[]\n",
    "\n",
    "with open('Hotels.csv', 'r') as csvfile: #opening file in read mode\n",
    "    filereaderobj = csv.reader(csvfile) \n",
    "    for row in filereaderobj: \n",
    "        # finding polarity score for each user review\n",
    "        if row[0]=='':             #skipping the first record in csv that has attribute names\n",
    "            continue\n",
    "        sia = SentimentIntensityAnalyzer()\n",
    "        polarity_scores = sia.polarity_scores(row[2])\n",
    "        compound = (polarity_scores)['compound']\n",
    "        compound = (compound + 1)*5/2 #out of 5\n",
    "        row.insert(2,str(compound)) #inserting polarity score of user review at index 2\n",
    "        rows.append(row)\n",
    "      \n",
    "        \n",
    "overallPolarityList = []\n",
    "count=0\n",
    "for i in range(len(rows)):\n",
    "    row = rows[i]\n",
    "    if row[0]=='0' and i!=0:\n",
    "        overallPolarity = count/(int(rows[i-1][0]) + 1)\n",
    "        overallPolarityList.append(overallPolarity)\n",
    "        count=0\n",
    "    count = count + float(row[2])\n",
    "#for last hotel:\n",
    "overallPolarity = count/(int(rows[len(rows)-1][0]) + 1)\n",
    "overallPolarityList.append(overallPolarity)\n",
    "\n",
    "\n",
    "k = -1\n",
    "for row in rows:\n",
    "    if row[0]=='0':\n",
    "        k = k+1\n",
    "    row.insert(6,overallPolarityList[k])\n",
    "\n",
    "attributes = ['Review No.','User Rating','User Rating Polarity', 'User Review',\n",
    "              'Hotel Name','Overall Hotel Rating','Overall Hotel Polarity']\n",
    "rows.insert(0,attributes)   \n",
    "        \n",
    "\n",
    "# making final csv with inserted user review polarity scores and hotel polarity scores\n",
    "with open(\"HotelsFinal.csv\", \"w\", newline=\"\") as f:\n",
    "    writer = csv.writer(f)\n",
    "    writer.writerows(rows)    \n",
    "        "
   ]
  },
  {
   "cell_type": "code",
   "execution_count": 2,
   "id": "666e075a",
   "metadata": {},
   "outputs": [],
   "source": [
    "rows2=[]\n",
    "rows2.append(['Hotel No.', 'Hotel Name', 'Overall Rating','Overall Polarity'])\n",
    "\n",
    "i=1\n",
    "for row in rows:\n",
    "    if row[0]=='0':\n",
    "        rows2.append([str(i), row[4], row[5], row[6]])\n",
    "        i+=1\n",
    "\n",
    "with open(\"HotelRatingsFinal.csv\", \"w\", newline=\"\") as f:\n",
    "    writer = csv.writer(f)\n",
    "    writer.writerows(rows2)  "
   ]
  }
 ],
 "metadata": {
  "kernelspec": {
   "display_name": "Python 3",
   "language": "python",
   "name": "python3"
  },
  "language_info": {
   "codemirror_mode": {
    "name": "ipython",
    "version": 3
   },
   "file_extension": ".py",
   "mimetype": "text/x-python",
   "name": "python",
   "nbconvert_exporter": "python",
   "pygments_lexer": "ipython3",
   "version": "3.8.2"
  }
 },
 "nbformat": 4,
 "nbformat_minor": 5
}
